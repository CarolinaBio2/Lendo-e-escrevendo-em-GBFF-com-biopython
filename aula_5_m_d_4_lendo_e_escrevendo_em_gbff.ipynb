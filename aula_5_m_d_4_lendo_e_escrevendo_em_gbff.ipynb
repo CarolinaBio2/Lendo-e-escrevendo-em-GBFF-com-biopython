{
  "nbformat": 4,
  "nbformat_minor": 0,
  "metadata": {
    "colab": {
      "provenance": [],
      "authorship_tag": "ABX9TyNvmoiU1texmZ/UU8IdJLuv",
      "include_colab_link": true
    },
    "kernelspec": {
      "name": "python3",
      "display_name": "Python 3"
    },
    "language_info": {
      "name": "python"
    }
  },
  "cells": [
    {
      "cell_type": "markdown",
      "metadata": {
        "id": "view-in-github",
        "colab_type": "text"
      },
      "source": [
        "<a href=\"https://colab.research.google.com/github/CarolinaBio2/Lendo-e-escrevendo-em-GBFF-com-biopython/blob/main/aula_5_m_d_4_lendo_e_escrevendo_em_gbff.ipynb\" target=\"_parent\"><img src=\"https://colab.research.google.com/assets/colab-badge.svg\" alt=\"Open In Colab\"/></a>"
      ]
    },
    {
      "cell_type": "code",
      "execution_count": null,
      "metadata": {
        "colab": {
          "base_uri": "https://localhost:8080/"
        },
        "id": "QVQ8IgNOS9AH",
        "outputId": "37de175f-310e-40a3-96c1-8fe7f8beb56a"
      },
      "outputs": [
        {
          "output_type": "stream",
          "name": "stdout",
          "text": [
            "Collecting biopython\n",
            "  Downloading biopython-1.84-cp310-cp310-manylinux_2_17_x86_64.manylinux2014_x86_64.whl.metadata (12 kB)\n",
            "Requirement already satisfied: numpy in /usr/local/lib/python3.10/dist-packages (from biopython) (1.26.4)\n",
            "Downloading biopython-1.84-cp310-cp310-manylinux_2_17_x86_64.manylinux2014_x86_64.whl (3.2 MB)\n",
            "\u001b[2K   \u001b[90m━━━━━━━━━━━━━━━━━━━━━━━━━━━━━━━━━━━━━━━━\u001b[0m \u001b[32m3.2/3.2 MB\u001b[0m \u001b[31m24.3 MB/s\u001b[0m eta \u001b[36m0:00:00\u001b[0m\n",
            "\u001b[?25hInstalling collected packages: biopython\n",
            "Successfully installed biopython-1.84\n"
          ]
        }
      ],
      "source": [
        "pip install biopython"
      ]
    },
    {
      "cell_type": "code",
      "source": [
        "from Bio.SeqRecord import SeqRecord\n",
        "from Bio.Seq import Seq\n",
        "from Bio import SeqIO\n",
        "from Bio.SeqFeature import SeqFeature, FeatureLocation"
      ],
      "metadata": {
        "id": "nVWpHaU4TRLb"
      },
      "execution_count": null,
      "outputs": []
    },
    {
      "cell_type": "code",
      "source": [
        "#O código usado na aula foi o \"completo_genomic_ecoli.gbff\"\n",
        "#Cria um objeto SeqRecord para o genoma inteiro\n",
        "genome_seq = Seq(\"AATTCTCGACCGTACCTATCATATCGGTGCATGCTGATGGCATGAAGCATACGACAT\")\n",
        "genome_record = SeqRecord(genome_seq, id=\"genoma\", name=\"Genoma_Exemplo\", description=\"Exemplo de genoma\")\n",
        "#Define os metadados do genoma\n",
        "genome_record.annotations[\"molecule_type\"] = \"DNA\"\n",
        "genome_record.annotations[\"organism\"] = \"Homo sapiens\"\n",
        "genome_record.annotations[\"taxonomy\"] = [\"Eukaryota\", \"Metazoa\", \"Chordata\", \"Craniata\", \"Vertebrata\", \"Euteleostomi\", \"Mammalia\", \"Eutheria\", \"Euarchontoglires\", \"Primates\", \"Haplorrhini\", \"Catarrhini\", \"Hominidae\" \"Homo\"]\n",
        "\n",
        "#Tudo que será definido e criado aqui são as qualifiers (os atributos)\n",
        "#Define a localização da primeira sequência no genoma\n",
        "seq1_location = FeatureLocation(0, 12)\n",
        "\n",
        "#Cria um objeto feature para a primeira sequência\n",
        "seq1_feature = SeqFeature(seq1_location, type=\"CDS\", id=\"seq1\", qualifiers={\"gene\": \"gene1\", \"product\": \"produto1\", \"translation\": \"AWKL\"})\n",
        "\n",
        "#Adiciona o objeto Feature à lista de Featuresdo objeto SeqRecord do gene\n",
        "genome_record.features.append(seq1_feature)\n",
        "\n",
        "#Define a localização da segunda sequência no genoma\n",
        "seq2_location = FeatureLocation(12, 24)\n",
        "\n",
        "#Cria um objeto Feature para a segunda sequencia\n",
        "seq2_feature = SeqFeature(seq2_location, type=\"CDS\", id=\"seq2\", qualifiers={\"gene\": \"gene2\", \"product\": \"produto2\"})\n",
        "\n",
        "#Adiciona o objeto Feature à lista de Features do objeto SeqRecord do genoma\n",
        "genome_record.features.append(seq2_feature)\n",
        "\n",
        "#Grava o objeto SeqRecord do genoma em um arquivo GBFF\n",
        "SeqIO.write(genome_record, \"exemplo.gbff\", \"genbank\")\n",
        "\n",
        "#Pasta do código criada ao lado (\"exemplo.gbff\")\n",
        "#Os qualifiers são atributos, e possuem estruturas de dicionário.\n",
        "#CDS:Região codificante do gene."
      ],
      "metadata": {
        "colab": {
          "base_uri": "https://localhost:8080/"
        },
        "id": "RRYryVkpTyTi",
        "outputId": "c125a183-34a1-4915-a9ac-263887f7ed7b"
      },
      "execution_count": null,
      "outputs": [
        {
          "output_type": "execute_result",
          "data": {
            "text/plain": [
              "1"
            ]
          },
          "metadata": {},
          "execution_count": 22
        }
      ]
    }
  ]
}